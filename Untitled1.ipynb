{
 "cells": [
  {
   "cell_type": "code",
   "execution_count": 2,
   "metadata": {},
   "outputs": [],
   "source": [
    "import pandas as pd\n",
    "import numpy as np\n",
    "\n",
    "madX1 = pd.read_csv('./madelon_train.data',header=None,sep=' ')"
   ]
  },
  {
   "cell_type": "code",
   "execution_count": 4,
   "metadata": {},
   "outputs": [
    {
     "data": {
      "text/plain": [
       "1002000"
      ]
     },
     "execution_count": 4,
     "metadata": {},
     "output_type": "execute_result"
    }
   ],
   "source": [
    "madX1.size"
   ]
  },
  {
   "cell_type": "code",
   "execution_count": null,
   "metadata": {},
   "outputs": [],
   "source": [
    "madX2 = pd.read_csv('./madelon_valid.data',header=None,sep=' ')\n",
    "madX = pd.concat([madX1,madX2],0).astype(float)\n",
    "madY1 = pd.read_csv('./madelon_train.labels',header=None,sep=' ')\n",
    "madY2 = pd.read_csv('./madelon_valid.labels',header=None,sep=' ')\n",
    "madY = pd.concat([madY1,madY2],0)\n",
    "madY.columns = ['Class']\n",
    "mad = pd.concat([madX,madY],1)\n",
    "mad = mad.dropna(axis=1,how='all')\n",
    "mad.to_hdf('datasets.hdf','madelon',complib='blosc',complevel=9)"
   ]
  },
  {
   "cell_type": "code",
   "execution_count": null,
   "metadata": {},
   "outputs": [],
   "source": []
  }
 ],
 "metadata": {
  "kernelspec": {
   "display_name": "Python (myenv)",
   "language": "python",
   "name": "myenv"
  },
  "language_info": {
   "codemirror_mode": {
    "name": "ipython",
    "version": 3
   },
   "file_extension": ".py",
   "mimetype": "text/x-python",
   "name": "python",
   "nbconvert_exporter": "python",
   "pygments_lexer": "ipython3",
   "version": "3.5.1"
  }
 },
 "nbformat": 4,
 "nbformat_minor": 2
}
